{
 "cells": [
  {
   "metadata": {},
   "cell_type": "markdown",
   "source": [
    "## <b>Tasks</b>\n",
    "\n",
    "- Formulate a particular question that might be interesting to answer by exploring this dataset.\n",
    "\n",
    "- Calculate statistics for the numerical and categorical attributes.\n",
    "\n",
    "- Use at least two different plotting techniques to plot the distribution of some numerical attributes. Draw short conclusions (in a markdown cell).\n",
    "\n",
    "- Generate two plots with the combined distribution of attributes and draw conclusions from them (in a markdown cell).\n",
    "Make sure your conclusions are related to the question you have formulated.\n",
    "\n",
    "- Make sure your conclusions are related to the question you have formulated."
   ],
   "id": "adc119bb7d57732e"
  },
  {
   "metadata": {
    "ExecuteTime": {
     "end_time": "2025-02-23T01:37:56.151470Z",
     "start_time": "2025-02-23T01:37:56.148773Z"
    }
   },
   "cell_type": "code",
   "source": [
    "import pandas as pd\n",
    "from matplotlib import pyplot as plt\n"
   ],
   "id": "e9dc598dd7d5964d",
   "outputs": [],
   "execution_count": 19
  },
  {
   "cell_type": "code",
   "id": "initial_id",
   "metadata": {
    "collapsed": true,
    "ExecuteTime": {
     "end_time": "2025-02-23T01:37:56.166750Z",
     "start_time": "2025-02-23T01:37:56.160556Z"
    }
   },
   "source": "df = pd.read_csv('../bank.csv')\n",
   "outputs": [],
   "execution_count": 20
  },
  {
   "metadata": {},
   "cell_type": "markdown",
   "source": [
    "## <b>Dataset</b>\n",
    "\n",
    "We are using a [Bank Marketing Dataset](http://archive.ics.uci.edu/ml/datasets/Bank+Marketing#)  from UCI which contains numerical and categorical statistics for customers to analyze the likelihood of them subscribing to a term deposit. You can see what type of data it contains below:"
   ],
   "id": "6a412da194d98113"
  },
  {
   "metadata": {
    "ExecuteTime": {
     "end_time": "2025-02-23T01:37:56.179485Z",
     "start_time": "2025-02-23T01:37:56.173109Z"
    }
   },
   "cell_type": "code",
   "source": "df.head(5)",
   "id": "e25fb82bfa7cd576",
   "outputs": [
    {
     "data": {
      "text/plain": [
       "    age          job   marital  education default  balance housing loan  \\\n",
       "0  32.0   technician    single   tertiary      no      392     yes   no   \n",
       "1  39.0   technician  divorced  secondary      no      688     yes  yes   \n",
       "2  59.0      retired   married  secondary      no     1035     yes  yes   \n",
       "3  47.0  blue-collar   married  secondary      no      398     yes  yes   \n",
       "4  54.0      retired   married  secondary      no     1004     yes   no   \n",
       "\n",
       "    contact  day month  duration  campaign  pdays  previous poutcome  \\\n",
       "0  cellular    1   apr       957         2    131         2  failure   \n",
       "1  cellular    1   apr       233         2    133         1  failure   \n",
       "2  cellular    1   apr       126         2    239         1  failure   \n",
       "3  cellular    1   apr       274         1    238         2  failure   \n",
       "4  cellular    1   apr       479         1    307         1  failure   \n",
       "\n",
       "  subscribed  \n",
       "0         no  \n",
       "1         no  \n",
       "2         no  \n",
       "3         no  \n",
       "4         no  "
      ],
      "text/html": [
       "<div>\n",
       "<style scoped>\n",
       "    .dataframe tbody tr th:only-of-type {\n",
       "        vertical-align: middle;\n",
       "    }\n",
       "\n",
       "    .dataframe tbody tr th {\n",
       "        vertical-align: top;\n",
       "    }\n",
       "\n",
       "    .dataframe thead th {\n",
       "        text-align: right;\n",
       "    }\n",
       "</style>\n",
       "<table border=\"1\" class=\"dataframe\">\n",
       "  <thead>\n",
       "    <tr style=\"text-align: right;\">\n",
       "      <th></th>\n",
       "      <th>age</th>\n",
       "      <th>job</th>\n",
       "      <th>marital</th>\n",
       "      <th>education</th>\n",
       "      <th>default</th>\n",
       "      <th>balance</th>\n",
       "      <th>housing</th>\n",
       "      <th>loan</th>\n",
       "      <th>contact</th>\n",
       "      <th>day</th>\n",
       "      <th>month</th>\n",
       "      <th>duration</th>\n",
       "      <th>campaign</th>\n",
       "      <th>pdays</th>\n",
       "      <th>previous</th>\n",
       "      <th>poutcome</th>\n",
       "      <th>subscribed</th>\n",
       "    </tr>\n",
       "  </thead>\n",
       "  <tbody>\n",
       "    <tr>\n",
       "      <th>0</th>\n",
       "      <td>32.0</td>\n",
       "      <td>technician</td>\n",
       "      <td>single</td>\n",
       "      <td>tertiary</td>\n",
       "      <td>no</td>\n",
       "      <td>392</td>\n",
       "      <td>yes</td>\n",
       "      <td>no</td>\n",
       "      <td>cellular</td>\n",
       "      <td>1</td>\n",
       "      <td>apr</td>\n",
       "      <td>957</td>\n",
       "      <td>2</td>\n",
       "      <td>131</td>\n",
       "      <td>2</td>\n",
       "      <td>failure</td>\n",
       "      <td>no</td>\n",
       "    </tr>\n",
       "    <tr>\n",
       "      <th>1</th>\n",
       "      <td>39.0</td>\n",
       "      <td>technician</td>\n",
       "      <td>divorced</td>\n",
       "      <td>secondary</td>\n",
       "      <td>no</td>\n",
       "      <td>688</td>\n",
       "      <td>yes</td>\n",
       "      <td>yes</td>\n",
       "      <td>cellular</td>\n",
       "      <td>1</td>\n",
       "      <td>apr</td>\n",
       "      <td>233</td>\n",
       "      <td>2</td>\n",
       "      <td>133</td>\n",
       "      <td>1</td>\n",
       "      <td>failure</td>\n",
       "      <td>no</td>\n",
       "    </tr>\n",
       "    <tr>\n",
       "      <th>2</th>\n",
       "      <td>59.0</td>\n",
       "      <td>retired</td>\n",
       "      <td>married</td>\n",
       "      <td>secondary</td>\n",
       "      <td>no</td>\n",
       "      <td>1035</td>\n",
       "      <td>yes</td>\n",
       "      <td>yes</td>\n",
       "      <td>cellular</td>\n",
       "      <td>1</td>\n",
       "      <td>apr</td>\n",
       "      <td>126</td>\n",
       "      <td>2</td>\n",
       "      <td>239</td>\n",
       "      <td>1</td>\n",
       "      <td>failure</td>\n",
       "      <td>no</td>\n",
       "    </tr>\n",
       "    <tr>\n",
       "      <th>3</th>\n",
       "      <td>47.0</td>\n",
       "      <td>blue-collar</td>\n",
       "      <td>married</td>\n",
       "      <td>secondary</td>\n",
       "      <td>no</td>\n",
       "      <td>398</td>\n",
       "      <td>yes</td>\n",
       "      <td>yes</td>\n",
       "      <td>cellular</td>\n",
       "      <td>1</td>\n",
       "      <td>apr</td>\n",
       "      <td>274</td>\n",
       "      <td>1</td>\n",
       "      <td>238</td>\n",
       "      <td>2</td>\n",
       "      <td>failure</td>\n",
       "      <td>no</td>\n",
       "    </tr>\n",
       "    <tr>\n",
       "      <th>4</th>\n",
       "      <td>54.0</td>\n",
       "      <td>retired</td>\n",
       "      <td>married</td>\n",
       "      <td>secondary</td>\n",
       "      <td>no</td>\n",
       "      <td>1004</td>\n",
       "      <td>yes</td>\n",
       "      <td>no</td>\n",
       "      <td>cellular</td>\n",
       "      <td>1</td>\n",
       "      <td>apr</td>\n",
       "      <td>479</td>\n",
       "      <td>1</td>\n",
       "      <td>307</td>\n",
       "      <td>1</td>\n",
       "      <td>failure</td>\n",
       "      <td>no</td>\n",
       "    </tr>\n",
       "  </tbody>\n",
       "</table>\n",
       "</div>"
      ]
     },
     "execution_count": 21,
     "metadata": {},
     "output_type": "execute_result"
    }
   ],
   "execution_count": 21
  },
  {
   "metadata": {},
   "cell_type": "markdown",
   "source": [
    "In the below code we run `df.describe()` This shows us the summary statistics for numerical attributes. This shows us the count of valid rows, average value, standard deviation, minimum value, 1st quartile, median, 3rd quartile, maximum value of each column.\n",
    "\n",
    "Some key information we find\n",
    "  - The highest balance we have found is 81204, this means we have no customers data above this threshold. \n",
    "  - The average age to be around 42\n",
    "  - The average balance is 1413"
   ],
   "id": "7155447e7a4c9e69"
  },
  {
   "metadata": {
    "ExecuteTime": {
     "end_time": "2025-02-23T01:37:56.285966Z",
     "start_time": "2025-02-23T01:37:56.275457Z"
    }
   },
   "cell_type": "code",
   "source": "df.describe()",
   "id": "6378f24e56d0f783",
   "outputs": [
    {
     "data": {
      "text/plain": [
       "               age       balance          day     duration     campaign  \\\n",
       "count  1988.000000   2000.000000  2000.000000  2000.000000  2000.000000   \n",
       "mean     41.753018   1413.663500    13.851500   292.020500     1.909500   \n",
       "std      12.724358   3131.224213     9.712189   221.557295     1.378862   \n",
       "min      18.000000   -980.000000     1.000000     7.000000     1.000000   \n",
       "25%      32.000000    201.500000     5.000000   146.000000     1.000000   \n",
       "50%      38.000000    551.000000    12.000000   236.000000     1.000000   \n",
       "75%      50.000000   1644.500000    23.000000   379.000000     2.000000   \n",
       "max      93.000000  81204.000000    31.000000  1823.000000    11.000000   \n",
       "\n",
       "             pdays     previous  \n",
       "count  2000.000000  2000.000000  \n",
       "mean    167.896000     2.561500  \n",
       "std     131.754126     3.400735  \n",
       "min      -1.000000     0.000000  \n",
       "25%      75.750000     1.000000  \n",
       "50%     182.000000     2.000000  \n",
       "75%     251.000000     3.000000  \n",
       "max     854.000000    55.000000  "
      ],
      "text/html": [
       "<div>\n",
       "<style scoped>\n",
       "    .dataframe tbody tr th:only-of-type {\n",
       "        vertical-align: middle;\n",
       "    }\n",
       "\n",
       "    .dataframe tbody tr th {\n",
       "        vertical-align: top;\n",
       "    }\n",
       "\n",
       "    .dataframe thead th {\n",
       "        text-align: right;\n",
       "    }\n",
       "</style>\n",
       "<table border=\"1\" class=\"dataframe\">\n",
       "  <thead>\n",
       "    <tr style=\"text-align: right;\">\n",
       "      <th></th>\n",
       "      <th>age</th>\n",
       "      <th>balance</th>\n",
       "      <th>day</th>\n",
       "      <th>duration</th>\n",
       "      <th>campaign</th>\n",
       "      <th>pdays</th>\n",
       "      <th>previous</th>\n",
       "    </tr>\n",
       "  </thead>\n",
       "  <tbody>\n",
       "    <tr>\n",
       "      <th>count</th>\n",
       "      <td>1988.000000</td>\n",
       "      <td>2000.000000</td>\n",
       "      <td>2000.000000</td>\n",
       "      <td>2000.000000</td>\n",
       "      <td>2000.000000</td>\n",
       "      <td>2000.000000</td>\n",
       "      <td>2000.000000</td>\n",
       "    </tr>\n",
       "    <tr>\n",
       "      <th>mean</th>\n",
       "      <td>41.753018</td>\n",
       "      <td>1413.663500</td>\n",
       "      <td>13.851500</td>\n",
       "      <td>292.020500</td>\n",
       "      <td>1.909500</td>\n",
       "      <td>167.896000</td>\n",
       "      <td>2.561500</td>\n",
       "    </tr>\n",
       "    <tr>\n",
       "      <th>std</th>\n",
       "      <td>12.724358</td>\n",
       "      <td>3131.224213</td>\n",
       "      <td>9.712189</td>\n",
       "      <td>221.557295</td>\n",
       "      <td>1.378862</td>\n",
       "      <td>131.754126</td>\n",
       "      <td>3.400735</td>\n",
       "    </tr>\n",
       "    <tr>\n",
       "      <th>min</th>\n",
       "      <td>18.000000</td>\n",
       "      <td>-980.000000</td>\n",
       "      <td>1.000000</td>\n",
       "      <td>7.000000</td>\n",
       "      <td>1.000000</td>\n",
       "      <td>-1.000000</td>\n",
       "      <td>0.000000</td>\n",
       "    </tr>\n",
       "    <tr>\n",
       "      <th>25%</th>\n",
       "      <td>32.000000</td>\n",
       "      <td>201.500000</td>\n",
       "      <td>5.000000</td>\n",
       "      <td>146.000000</td>\n",
       "      <td>1.000000</td>\n",
       "      <td>75.750000</td>\n",
       "      <td>1.000000</td>\n",
       "    </tr>\n",
       "    <tr>\n",
       "      <th>50%</th>\n",
       "      <td>38.000000</td>\n",
       "      <td>551.000000</td>\n",
       "      <td>12.000000</td>\n",
       "      <td>236.000000</td>\n",
       "      <td>1.000000</td>\n",
       "      <td>182.000000</td>\n",
       "      <td>2.000000</td>\n",
       "    </tr>\n",
       "    <tr>\n",
       "      <th>75%</th>\n",
       "      <td>50.000000</td>\n",
       "      <td>1644.500000</td>\n",
       "      <td>23.000000</td>\n",
       "      <td>379.000000</td>\n",
       "      <td>2.000000</td>\n",
       "      <td>251.000000</td>\n",
       "      <td>3.000000</td>\n",
       "    </tr>\n",
       "    <tr>\n",
       "      <th>max</th>\n",
       "      <td>93.000000</td>\n",
       "      <td>81204.000000</td>\n",
       "      <td>31.000000</td>\n",
       "      <td>1823.000000</td>\n",
       "      <td>11.000000</td>\n",
       "      <td>854.000000</td>\n",
       "      <td>55.000000</td>\n",
       "    </tr>\n",
       "  </tbody>\n",
       "</table>\n",
       "</div>"
      ]
     },
     "execution_count": 22,
     "metadata": {},
     "output_type": "execute_result"
    }
   ],
   "execution_count": 22
  },
  {
   "metadata": {},
   "cell_type": "markdown",
   "source": [
    "Now we will run `df.describe(include=['object'])` to generate the summary statistics for the categorical attributes. This shows the count of valid rows, the number of different categories, the most frequent category, how many times the most frequent category appears.\n",
    "\n",
    "Some key information we find:\n",
    "- There is 11 unique jobs in our data\n",
    "- The most common relationship status is married at 1111 people\n",
    "- The most common education level is secondary at 995 people\n",
    "- The most common job is management"
   ],
   "id": "85e8bccf2027674b"
  },
  {
   "metadata": {
    "ExecuteTime": {
     "end_time": "2025-02-23T01:37:56.329560Z",
     "start_time": "2025-02-23T01:37:56.319815Z"
    }
   },
   "cell_type": "code",
   "source": "df.describe(include=['object'])",
   "id": "9f11138717a77110",
   "outputs": [
    {
     "data": {
      "text/plain": [
       "               job  marital  education default housing  loan   contact month  \\\n",
       "count         1990     2000       1896    2000    2000  2000      1809  2000   \n",
       "unique          11        3          3       2       2     2         2    12   \n",
       "top     management  married  secondary      no      no    no  cellular   feb   \n",
       "freq           461     1111        995    1985    1037  1750      1663   404   \n",
       "\n",
       "       poutcome subscribed  \n",
       "count      1546       2000  \n",
       "unique        3          2  \n",
       "top     failure         no  \n",
       "freq        955       1000  "
      ],
      "text/html": [
       "<div>\n",
       "<style scoped>\n",
       "    .dataframe tbody tr th:only-of-type {\n",
       "        vertical-align: middle;\n",
       "    }\n",
       "\n",
       "    .dataframe tbody tr th {\n",
       "        vertical-align: top;\n",
       "    }\n",
       "\n",
       "    .dataframe thead th {\n",
       "        text-align: right;\n",
       "    }\n",
       "</style>\n",
       "<table border=\"1\" class=\"dataframe\">\n",
       "  <thead>\n",
       "    <tr style=\"text-align: right;\">\n",
       "      <th></th>\n",
       "      <th>job</th>\n",
       "      <th>marital</th>\n",
       "      <th>education</th>\n",
       "      <th>default</th>\n",
       "      <th>housing</th>\n",
       "      <th>loan</th>\n",
       "      <th>contact</th>\n",
       "      <th>month</th>\n",
       "      <th>poutcome</th>\n",
       "      <th>subscribed</th>\n",
       "    </tr>\n",
       "  </thead>\n",
       "  <tbody>\n",
       "    <tr>\n",
       "      <th>count</th>\n",
       "      <td>1990</td>\n",
       "      <td>2000</td>\n",
       "      <td>1896</td>\n",
       "      <td>2000</td>\n",
       "      <td>2000</td>\n",
       "      <td>2000</td>\n",
       "      <td>1809</td>\n",
       "      <td>2000</td>\n",
       "      <td>1546</td>\n",
       "      <td>2000</td>\n",
       "    </tr>\n",
       "    <tr>\n",
       "      <th>unique</th>\n",
       "      <td>11</td>\n",
       "      <td>3</td>\n",
       "      <td>3</td>\n",
       "      <td>2</td>\n",
       "      <td>2</td>\n",
       "      <td>2</td>\n",
       "      <td>2</td>\n",
       "      <td>12</td>\n",
       "      <td>3</td>\n",
       "      <td>2</td>\n",
       "    </tr>\n",
       "    <tr>\n",
       "      <th>top</th>\n",
       "      <td>management</td>\n",
       "      <td>married</td>\n",
       "      <td>secondary</td>\n",
       "      <td>no</td>\n",
       "      <td>no</td>\n",
       "      <td>no</td>\n",
       "      <td>cellular</td>\n",
       "      <td>feb</td>\n",
       "      <td>failure</td>\n",
       "      <td>no</td>\n",
       "    </tr>\n",
       "    <tr>\n",
       "      <th>freq</th>\n",
       "      <td>461</td>\n",
       "      <td>1111</td>\n",
       "      <td>995</td>\n",
       "      <td>1985</td>\n",
       "      <td>1037</td>\n",
       "      <td>1750</td>\n",
       "      <td>1663</td>\n",
       "      <td>404</td>\n",
       "      <td>955</td>\n",
       "      <td>1000</td>\n",
       "    </tr>\n",
       "  </tbody>\n",
       "</table>\n",
       "</div>"
      ]
     },
     "execution_count": 23,
     "metadata": {},
     "output_type": "execute_result"
    }
   ],
   "execution_count": 23
  },
  {
   "metadata": {},
   "cell_type": "markdown",
   "source": [
    "## <b>Research Question</b>\n",
    "\n",
    "**How does balance vary across different ages and marital statuses, and how does this affect the likelihood of subscribing to a term deposit?**\n",
    "\n",
    "First lets plot our balance range in a histogram. We then will plot the balance across age and martial status. This will give us insight into our question we formulated."
   ],
   "id": "63c897708653bcfa"
  },
  {
   "metadata": {
    "ExecuteTime": {
     "end_time": "2025-02-23T01:38:48.507477Z",
     "start_time": "2025-02-23T01:38:48.445050Z"
    }
   },
   "cell_type": "code",
   "source": [
    "df['balance'].hist(bins=50)\n",
    "plt.xlabel('Applicant Balance')\n",
    "plt.ylabel('Customers')\n",
    "plt.show()"
   ],
   "id": "d2a0189dc7282e1e",
   "outputs": [
    {
     "data": {
      "text/plain": [
       "<Figure size 640x480 with 1 Axes>"
      ],
      "image/png": "[encoded data removed]"
     },
     "metadata": {},
     "output_type": "display_data"
    }
   ],
   "execution_count": 29
  },
  {
   "metadata": {},
   "cell_type": "markdown",
   "source": [
    "### Scatter Plot between age and balance\n",
    "Below we have generated a scatter plot between age and balance, from this we find that:\n",
    "\n",
    "- People between 30 and 40 tend to have higher balances\n",
    "- We have a few high balance outliers past the age of 30"
   ],
   "id": "66147415ee06a904"
  },
  {
   "metadata": {
    "ExecuteTime": {
     "end_time": "2025-02-23T01:37:56.534559Z",
     "start_time": "2025-02-23T01:37:56.467826Z"
    }
   },
   "cell_type": "code",
   "source": [
    "df.plot.scatter(x='age', y='balance')\n",
    "plt.title('Scatter plot between age and balance')\n",
    "plt.show()"
   ],
   "id": "5f75debe46165c0a",
   "outputs": [
    {
     "data": {
      "text/plain": [
       "<Figure size 640x480 with 1 Axes>"
      ],
      "image/png": "[encoded data removed]"
     },
     "metadata": {},
     "output_type": "display_data"
    }
   ],
   "execution_count": 24
  },
  {
   "metadata": {},
   "cell_type": "markdown",
   "source": [
    "### Box plot of balance grouped by martial statuses\n",
    "Below we have generated a box plot of balance grouped by martial statuses, this shows us that:\n",
    " - Married people have the most customers with high balances\n",
    " - Single people fall shortly behind.\n",
    "  - Divorced customers have a noticeably smaller balances on average\n"
   ],
   "id": "faef927c2fcd0ebc"
  },
  {
   "metadata": {
    "ExecuteTime": {
     "end_time": "2025-02-23T01:37:56.643970Z",
     "start_time": "2025-02-23T01:37:56.587608Z"
    }
   },
   "cell_type": "code",
   "source": [
    "df.boxplot(column='balance', by='marital')\n",
    "plt.title('Box plot of Balance grouped by Martial Statuses')\n",
    "plt.suptitle(\"\") \n",
    "plt.show()"
   ],
   "id": "33cfe30be8a0538d",
   "outputs": [
    {
     "data": {
      "text/plain": [
       "<Figure size 640x480 with 1 Axes>"
      ],
      "image/png": "[encoded data removed]"
     },
     "metadata": {},
     "output_type": "display_data"
    }
   ],
   "execution_count": 25
  },
  {
   "metadata": {},
   "cell_type": "markdown",
   "source": [
    "### Conclusion\n",
    "- Middle-aged people (30-40 years old) tend to have higher balances.\n",
    "- Married people generally have higher balances than single or divorced people."
   ],
   "id": "a09c3e80b204f8ba"
  },
  {
   "metadata": {},
   "cell_type": "markdown",
   "source": [
    "### Histogram to show age distribution by martial status\n",
    "We will now analyze how **marital status varies across different age groups** to understand these patterns further. From the plot we find out that:\n",
    "\n",
    "- Most customers in our highest income range found before (30-40) are married.\n"
   ],
   "id": "66c6e5be0eb09b2a"
  },
  {
   "metadata": {
    "ExecuteTime": {
     "end_time": "2025-02-23T01:37:56.784194Z",
     "start_time": "2025-02-23T01:37:56.677553Z"
    }
   },
   "cell_type": "code",
   "source": [
    "plt.figure(figsize=(10,5))\n",
    "for status in df['marital'].unique():\n",
    "    plt.hist(df[df['marital'] == status]['age'], bins=20, alpha=0.5, label=status)\n",
    "\n",
    "plt.xlabel(\"Age\")\n",
    "plt.ylabel(\"Count\")\n",
    "plt.title(\"Age Distribution by Marital Status\")\n",
    "plt.legend()\n",
    "plt.show()\n",
    "\n"
   ],
   "id": "84257fabdc14dc77",
   "outputs": [
    {
     "data": {
      "text/plain": [
       "<Figure size 1000x500 with 1 Axes>"
      ],
      "image/png": "[encoded data removed]"
     },
     "metadata": {},
     "output_type": "display_data"
    }
   ],
   "execution_count": 26
  },
  {
   "metadata": {},
   "cell_type": "markdown",
   "source": [
    "### Subscription rate for martial statuses\n",
    "Now finally we can check the ratio at which each martial status is subscribed via a frequency table as seen below. From this we find that:\n",
    "- The majority of married people are unsubscribed\n",
    "- The majority of single people are subscribed"
   ],
   "id": "bf84ccebead66a8f"
  },
  {
   "metadata": {
    "ExecuteTime": {
     "end_time": "2025-02-23T01:39:00.469258Z",
     "start_time": "2025-02-23T01:39:00.414154Z"
    }
   },
   "cell_type": "code",
   "source": [
    "crosstab = pd.crosstab(df['marital'], df['subscribed'])\n",
    "crosstab.plot(kind='bar', stacked=True, color=['red', 'blue'])\n",
    "plt.ylabel('Customers')\n",
    "plt.show()"
   ],
   "id": "d410cf1662f24dc3",
   "outputs": [
    {
     "data": {
      "text/plain": [
       "<Figure size 640x480 with 1 Axes>"
      ],
      "image/png": "[encoded data removed]"
     },
     "metadata": {},
     "output_type": "display_data"
    }
   ],
   "execution_count": 30
  },
  {
   "metadata": {},
   "cell_type": "markdown",
   "source": [
    "## Conclusion\n",
    "From our analysis we find that even though married people tend to have higher balances, they are not more likely to subscribe to the term deposit, this could be due to them having more financial commitments that they cannot invest in a term deposit. We find that single people who have similar but slightly smaller balances to married people are much more likely to invest in a term deposit."
   ],
   "id": "3155d50832902e27"
  }
 ],
 "metadata": {
  "kernelspec": {
   "display_name": "Python 3",
   "language": "python",
   "name": "python3"
  },
  "language_info": {
   "codemirror_mode": {
    "name": "ipython",
    "version": 2
   },
   "file_extension": ".py",
   "mimetype": "text/x-python",
   "name": "python",
   "nbconvert_exporter": "python",
   "pygments_lexer": "ipython2",
   "version": "2.7.6"
  }
 },
 "nbformat": 4,
 "nbformat_minor": 5
}
