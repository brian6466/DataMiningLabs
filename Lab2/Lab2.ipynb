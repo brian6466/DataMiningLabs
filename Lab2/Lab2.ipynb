{
 "cells": [
  {
   "metadata": {},
   "cell_type": "markdown",
   "source": [
    "## <b>Tasks</b>\n",
    "Open a new Jupyter notebook. In your notebook, load bank.csv into a Pandas dataframe. Follow the examples and process in Lab 2 - Data Preparation.ipynb to prepare bank.csv for machine learning.\n",
    "\n",
    "Ensure that you have:\n",
    "\n",
    "- encoded all categorical attributes as numerical,\n",
    "- treated/filled in missing values\n",
    "- applied scaler where necessary\n",
    "- treated outliers appropriately\n",
    "- created at least one new feature from the existing ones.\n",
    "\n",
    "In the end, save the prepared dataset as a CSV file on your hard disk."
   ],
   "id": "ae036e19a9eac48f"
  },
  {
   "cell_type": "code",
   "id": "initial_id",
   "metadata": {
    "collapsed": true,
    "ExecuteTime": {
     "end_time": "2025-02-28T23:19:43.484870Z",
     "start_time": "2025-02-28T23:19:43.481838Z"
    }
   },
   "source": [
    "import pandas as pd\n",
    "from matplotlib import pyplot as plt\n",
    "from sklearn.preprocessing import RobustScaler\n",
    "import numpy as np\n",
    "\n"
   ],
   "outputs": [],
   "execution_count": 63
  },
  {
   "metadata": {
    "ExecuteTime": {
     "end_time": "2025-02-28T23:19:43.504518Z",
     "start_time": "2025-02-28T23:19:43.498003Z"
    }
   },
   "cell_type": "code",
   "source": "df = pd.read_csv(\"../bank.csv\")",
   "id": "ad93dff8f66d3d6e",
   "outputs": [],
   "execution_count": 64
  },
  {
   "metadata": {
    "ExecuteTime": {
     "end_time": "2025-02-28T23:19:43.520395Z",
     "start_time": "2025-02-28T23:19:43.516113Z"
    }
   },
   "cell_type": "code",
   "source": "df.isna().sum()",
   "id": "e90165f76a711463",
   "outputs": [
    {
     "data": {
      "text/plain": [
       "age            12\n",
       "job            10\n",
       "marital         0\n",
       "education     104\n",
       "default         0\n",
       "balance         0\n",
       "housing         0\n",
       "loan            0\n",
       "contact       191\n",
       "day             0\n",
       "month           0\n",
       "duration        0\n",
       "campaign        0\n",
       "pdays           0\n",
       "previous        0\n",
       "poutcome      454\n",
       "subscribed      0\n",
       "dtype: int64"
      ]
     },
     "execution_count": 65,
     "metadata": {},
     "output_type": "execute_result"
    }
   ],
   "execution_count": 65
  },
  {
   "metadata": {
    "ExecuteTime": {
     "end_time": "2025-02-28T23:19:43.552200Z",
     "start_time": "2025-02-28T23:19:43.544783Z"
    }
   },
   "cell_type": "code",
   "source": "df.head()",
   "id": "4464c9a30e184378",
   "outputs": [
    {
     "data": {
      "text/plain": [
       "    age          job   marital  education default  balance housing loan  \\\n",
       "0  32.0   technician    single   tertiary      no      392     yes   no   \n",
       "1  39.0   technician  divorced  secondary      no      688     yes  yes   \n",
       "2  59.0      retired   married  secondary      no     1035     yes  yes   \n",
       "3  47.0  blue-collar   married  secondary      no      398     yes  yes   \n",
       "4  54.0      retired   married  secondary      no     1004     yes   no   \n",
       "\n",
       "    contact  day month  duration  campaign  pdays  previous poutcome  \\\n",
       "0  cellular    1   apr       957         2    131         2  failure   \n",
       "1  cellular    1   apr       233         2    133         1  failure   \n",
       "2  cellular    1   apr       126         2    239         1  failure   \n",
       "3  cellular    1   apr       274         1    238         2  failure   \n",
       "4  cellular    1   apr       479         1    307         1  failure   \n",
       "\n",
       "  subscribed  \n",
       "0         no  \n",
       "1         no  \n",
       "2         no  \n",
       "3         no  \n",
       "4         no  "
      ],
      "text/html": [
       "<div>\n",
       "<style scoped>\n",
       "    .dataframe tbody tr th:only-of-type {\n",
       "        vertical-align: middle;\n",
       "    }\n",
       "\n",
       "    .dataframe tbody tr th {\n",
       "        vertical-align: top;\n",
       "    }\n",
       "\n",
       "    .dataframe thead th {\n",
       "        text-align: right;\n",
       "    }\n",
       "</style>\n",
       "<table border=\"1\" class=\"dataframe\">\n",
       "  <thead>\n",
       "    <tr style=\"text-align: right;\">\n",
       "      <th></th>\n",
       "      <th>age</th>\n",
       "      <th>job</th>\n",
       "      <th>marital</th>\n",
       "      <th>education</th>\n",
       "      <th>default</th>\n",
       "      <th>balance</th>\n",
       "      <th>housing</th>\n",
       "      <th>loan</th>\n",
       "      <th>contact</th>\n",
       "      <th>day</th>\n",
       "      <th>month</th>\n",
       "      <th>duration</th>\n",
       "      <th>campaign</th>\n",
       "      <th>pdays</th>\n",
       "      <th>previous</th>\n",
       "      <th>poutcome</th>\n",
       "      <th>subscribed</th>\n",
       "    </tr>\n",
       "  </thead>\n",
       "  <tbody>\n",
       "    <tr>\n",
       "      <th>0</th>\n",
       "      <td>32.0</td>\n",
       "      <td>technician</td>\n",
       "      <td>single</td>\n",
       "      <td>tertiary</td>\n",
       "      <td>no</td>\n",
       "      <td>392</td>\n",
       "      <td>yes</td>\n",
       "      <td>no</td>\n",
       "      <td>cellular</td>\n",
       "      <td>1</td>\n",
       "      <td>apr</td>\n",
       "      <td>957</td>\n",
       "      <td>2</td>\n",
       "      <td>131</td>\n",
       "      <td>2</td>\n",
       "      <td>failure</td>\n",
       "      <td>no</td>\n",
       "    </tr>\n",
       "    <tr>\n",
       "      <th>1</th>\n",
       "      <td>39.0</td>\n",
       "      <td>technician</td>\n",
       "      <td>divorced</td>\n",
       "      <td>secondary</td>\n",
       "      <td>no</td>\n",
       "      <td>688</td>\n",
       "      <td>yes</td>\n",
       "      <td>yes</td>\n",
       "      <td>cellular</td>\n",
       "      <td>1</td>\n",
       "      <td>apr</td>\n",
       "      <td>233</td>\n",
       "      <td>2</td>\n",
       "      <td>133</td>\n",
       "      <td>1</td>\n",
       "      <td>failure</td>\n",
       "      <td>no</td>\n",
       "    </tr>\n",
       "    <tr>\n",
       "      <th>2</th>\n",
       "      <td>59.0</td>\n",
       "      <td>retired</td>\n",
       "      <td>married</td>\n",
       "      <td>secondary</td>\n",
       "      <td>no</td>\n",
       "      <td>1035</td>\n",
       "      <td>yes</td>\n",
       "      <td>yes</td>\n",
       "      <td>cellular</td>\n",
       "      <td>1</td>\n",
       "      <td>apr</td>\n",
       "      <td>126</td>\n",
       "      <td>2</td>\n",
       "      <td>239</td>\n",
       "      <td>1</td>\n",
       "      <td>failure</td>\n",
       "      <td>no</td>\n",
       "    </tr>\n",
       "    <tr>\n",
       "      <th>3</th>\n",
       "      <td>47.0</td>\n",
       "      <td>blue-collar</td>\n",
       "      <td>married</td>\n",
       "      <td>secondary</td>\n",
       "      <td>no</td>\n",
       "      <td>398</td>\n",
       "      <td>yes</td>\n",
       "      <td>yes</td>\n",
       "      <td>cellular</td>\n",
       "      <td>1</td>\n",
       "      <td>apr</td>\n",
       "      <td>274</td>\n",
       "      <td>1</td>\n",
       "      <td>238</td>\n",
       "      <td>2</td>\n",
       "      <td>failure</td>\n",
       "      <td>no</td>\n",
       "    </tr>\n",
       "    <tr>\n",
       "      <th>4</th>\n",
       "      <td>54.0</td>\n",
       "      <td>retired</td>\n",
       "      <td>married</td>\n",
       "      <td>secondary</td>\n",
       "      <td>no</td>\n",
       "      <td>1004</td>\n",
       "      <td>yes</td>\n",
       "      <td>no</td>\n",
       "      <td>cellular</td>\n",
       "      <td>1</td>\n",
       "      <td>apr</td>\n",
       "      <td>479</td>\n",
       "      <td>1</td>\n",
       "      <td>307</td>\n",
       "      <td>1</td>\n",
       "      <td>failure</td>\n",
       "      <td>no</td>\n",
       "    </tr>\n",
       "  </tbody>\n",
       "</table>\n",
       "</div>"
      ]
     },
     "execution_count": 66,
     "metadata": {},
     "output_type": "execute_result"
    }
   ],
   "execution_count": 66
  },
  {
   "metadata": {
    "ExecuteTime": {
     "end_time": "2025-02-28T23:19:43.635853Z",
     "start_time": "2025-02-28T23:19:43.633866Z"
    }
   },
   "cell_type": "code",
   "source": "df_original = df",
   "id": "4ced804b48aaa6a7",
   "outputs": [],
   "execution_count": 67
  },
  {
   "metadata": {},
   "cell_type": "markdown",
   "source": [
    "### Ordinal Categorical Attribute Encoding\n",
    "Education is an ordinal categorical attribute with a clear hierarchy, we will define it below so the encoding follows the hierarchy. We also make sure we fill any empty rows with 3 as we see above it has 104 empty rows for education."
   ],
   "id": "1011c6351ba5ceec"
  },
  {
   "metadata": {
    "ExecuteTime": {
     "end_time": "2025-02-28T23:19:43.751004Z",
     "start_time": "2025-02-28T23:19:43.747005Z"
    }
   },
   "cell_type": "code",
   "source": [
    "education_mapper = {\n",
    "    \"primary\": 0,\n",
    "    \"secondary\": 1,\n",
    "    \"tertiary\": 2,\n",
    "}\n",
    "\n",
    "df[\"education\"] = df[\"education\"].replace(education_mapper).fillna(3).astype(int)"
   ],
   "id": "51073abd010a4d71",
   "outputs": [
    {
     "name": "stderr",
     "output_type": "stream",
     "text": [
      "C:\\Users\\brian\\AppData\\Local\\Temp\\ipykernel_23440\\1981555342.py:7: FutureWarning: Downcasting behavior in `replace` is deprecated and will be removed in a future version. To retain the old behavior, explicitly call `result.infer_objects(copy=False)`. To opt-in to the future behavior, set `pd.set_option('future.no_silent_downcasting', True)`\n",
      "  df[\"education\"] = df[\"education\"].replace(education_mapper).fillna(3).astype(int)\n"
     ]
    }
   ],
   "execution_count": 68
  },
  {
   "metadata": {},
   "cell_type": "markdown",
   "source": [
    "### One-hot Encoding\n",
    "Now we will encode all other categorical attributes using one-hot encoding, this is converting them to numerical format with no clear order. Since job has empty rows we add the dummy_na=True attribute."
   ],
   "id": "23c35c77fc25a981"
  },
  {
   "metadata": {
    "ExecuteTime": {
     "end_time": "2025-02-28T23:19:43.890965Z",
     "start_time": "2025-02-28T23:19:43.880348Z"
    }
   },
   "cell_type": "code",
   "source": [
    "df = pd.get_dummies(df, columns=['job'], \n",
    "                     dummy_na=True, drop_first=True)\n",
    "\n",
    "df.head()"
   ],
   "id": "b3d3be06f392d3de",
   "outputs": [
    {
     "data": {
      "text/plain": [
       "    age   marital  education default  balance housing loan   contact  day  \\\n",
       "0  32.0    single          2      no      392     yes   no  cellular    1   \n",
       "1  39.0  divorced          1      no      688     yes  yes  cellular    1   \n",
       "2  59.0   married          1      no     1035     yes  yes  cellular    1   \n",
       "3  47.0   married          1      no      398     yes  yes  cellular    1   \n",
       "4  54.0   married          1      no     1004     yes   no  cellular    1   \n",
       "\n",
       "  month  ...  job_entrepreneur  job_housemaid  job_management  job_retired  \\\n",
       "0   apr  ...             False          False           False        False   \n",
       "1   apr  ...             False          False           False        False   \n",
       "2   apr  ...             False          False           False         True   \n",
       "3   apr  ...             False          False           False        False   \n",
       "4   apr  ...             False          False           False         True   \n",
       "\n",
       "  job_self-employed job_services  job_student  job_technician  job_unemployed  \\\n",
       "0             False        False        False            True           False   \n",
       "1             False        False        False            True           False   \n",
       "2             False        False        False           False           False   \n",
       "3             False        False        False           False           False   \n",
       "4             False        False        False           False           False   \n",
       "\n",
       "   job_nan  \n",
       "0    False  \n",
       "1    False  \n",
       "2    False  \n",
       "3    False  \n",
       "4    False  \n",
       "\n",
       "[5 rows x 27 columns]"
      ],
      "text/html": [
       "<div>\n",
       "<style scoped>\n",
       "    .dataframe tbody tr th:only-of-type {\n",
       "        vertical-align: middle;\n",
       "    }\n",
       "\n",
       "    .dataframe tbody tr th {\n",
       "        vertical-align: top;\n",
       "    }\n",
       "\n",
       "    .dataframe thead th {\n",
       "        text-align: right;\n",
       "    }\n",
       "</style>\n",
       "<table border=\"1\" class=\"dataframe\">\n",
       "  <thead>\n",
       "    <tr style=\"text-align: right;\">\n",
       "      <th></th>\n",
       "      <th>age</th>\n",
       "      <th>marital</th>\n",
       "      <th>education</th>\n",
       "      <th>default</th>\n",
       "      <th>balance</th>\n",
       "      <th>housing</th>\n",
       "      <th>loan</th>\n",
       "      <th>contact</th>\n",
       "      <th>day</th>\n",
       "      <th>month</th>\n",
       "      <th>...</th>\n",
       "      <th>job_entrepreneur</th>\n",
       "      <th>job_housemaid</th>\n",
       "      <th>job_management</th>\n",
       "      <th>job_retired</th>\n",
       "      <th>job_self-employed</th>\n",
       "      <th>job_services</th>\n",
       "      <th>job_student</th>\n",
       "      <th>job_technician</th>\n",
       "      <th>job_unemployed</th>\n",
       "      <th>job_nan</th>\n",
       "    </tr>\n",
       "  </thead>\n",
       "  <tbody>\n",
       "    <tr>\n",
       "      <th>0</th>\n",
       "      <td>32.0</td>\n",
       "      <td>single</td>\n",
       "      <td>2</td>\n",
       "      <td>no</td>\n",
       "      <td>392</td>\n",
       "      <td>yes</td>\n",
       "      <td>no</td>\n",
       "      <td>cellular</td>\n",
       "      <td>1</td>\n",
       "      <td>apr</td>\n",
       "      <td>...</td>\n",
       "      <td>False</td>\n",
       "      <td>False</td>\n",
       "      <td>False</td>\n",
       "      <td>False</td>\n",
       "      <td>False</td>\n",
       "      <td>False</td>\n",
       "      <td>False</td>\n",
       "      <td>True</td>\n",
       "      <td>False</td>\n",
       "      <td>False</td>\n",
       "    </tr>\n",
       "    <tr>\n",
       "      <th>1</th>\n",
       "      <td>39.0</td>\n",
       "      <td>divorced</td>\n",
       "      <td>1</td>\n",
       "      <td>no</td>\n",
       "      <td>688</td>\n",
       "      <td>yes</td>\n",
       "      <td>yes</td>\n",
       "      <td>cellular</td>\n",
       "      <td>1</td>\n",
       "      <td>apr</td>\n",
       "      <td>...</td>\n",
       "      <td>False</td>\n",
       "      <td>False</td>\n",
       "      <td>False</td>\n",
       "      <td>False</td>\n",
       "      <td>False</td>\n",
       "      <td>False</td>\n",
       "      <td>False</td>\n",
       "      <td>True</td>\n",
       "      <td>False</td>\n",
       "      <td>False</td>\n",
       "    </tr>\n",
       "    <tr>\n",
       "      <th>2</th>\n",
       "      <td>59.0</td>\n",
       "      <td>married</td>\n",
       "      <td>1</td>\n",
       "      <td>no</td>\n",
       "      <td>1035</td>\n",
       "      <td>yes</td>\n",
       "      <td>yes</td>\n",
       "      <td>cellular</td>\n",
       "      <td>1</td>\n",
       "      <td>apr</td>\n",
       "      <td>...</td>\n",
       "      <td>False</td>\n",
       "      <td>False</td>\n",
       "      <td>False</td>\n",
       "      <td>True</td>\n",
       "      <td>False</td>\n",
       "      <td>False</td>\n",
       "      <td>False</td>\n",
       "      <td>False</td>\n",
       "      <td>False</td>\n",
       "      <td>False</td>\n",
       "    </tr>\n",
       "    <tr>\n",
       "      <th>3</th>\n",
       "      <td>47.0</td>\n",
       "      <td>married</td>\n",
       "      <td>1</td>\n",
       "      <td>no</td>\n",
       "      <td>398</td>\n",
       "      <td>yes</td>\n",
       "      <td>yes</td>\n",
       "      <td>cellular</td>\n",
       "      <td>1</td>\n",
       "      <td>apr</td>\n",
       "      <td>...</td>\n",
       "      <td>False</td>\n",
       "      <td>False</td>\n",
       "      <td>False</td>\n",
       "      <td>False</td>\n",
       "      <td>False</td>\n",
       "      <td>False</td>\n",
       "      <td>False</td>\n",
       "      <td>False</td>\n",
       "      <td>False</td>\n",
       "      <td>False</td>\n",
       "    </tr>\n",
       "    <tr>\n",
       "      <th>4</th>\n",
       "      <td>54.0</td>\n",
       "      <td>married</td>\n",
       "      <td>1</td>\n",
       "      <td>no</td>\n",
       "      <td>1004</td>\n",
       "      <td>yes</td>\n",
       "      <td>no</td>\n",
       "      <td>cellular</td>\n",
       "      <td>1</td>\n",
       "      <td>apr</td>\n",
       "      <td>...</td>\n",
       "      <td>False</td>\n",
       "      <td>False</td>\n",
       "      <td>False</td>\n",
       "      <td>True</td>\n",
       "      <td>False</td>\n",
       "      <td>False</td>\n",
       "      <td>False</td>\n",
       "      <td>False</td>\n",
       "      <td>False</td>\n",
       "      <td>False</td>\n",
       "    </tr>\n",
       "  </tbody>\n",
       "</table>\n",
       "<p>5 rows × 27 columns</p>\n",
       "</div>"
      ]
     },
     "execution_count": 69,
     "metadata": {},
     "output_type": "execute_result"
    }
   ],
   "execution_count": 69
  },
  {
   "metadata": {
    "ExecuteTime": {
     "end_time": "2025-02-28T23:19:43.928982Z",
     "start_time": "2025-02-28T23:19:43.918717Z"
    }
   },
   "cell_type": "code",
   "source": [
    "df = pd.get_dummies(df, drop_first=True)\n",
    "\n",
    "df.head()"
   ],
   "id": "1c6ad51643520da2",
   "outputs": [
    {
     "data": {
      "text/plain": [
       "    age  education  balance  day  duration  campaign  pdays  previous  \\\n",
       "0  32.0          2      392    1       957         2    131         2   \n",
       "1  39.0          1      688    1       233         2    133         1   \n",
       "2  59.0          1     1035    1       126         2    239         1   \n",
       "3  47.0          1      398    1       274         1    238         2   \n",
       "4  54.0          1     1004    1       479         1    307         1   \n",
       "\n",
       "   job_blue-collar  job_entrepreneur  ...  month_jul  month_jun  month_mar  \\\n",
       "0            False             False  ...      False      False      False   \n",
       "1            False             False  ...      False      False      False   \n",
       "2            False             False  ...      False      False      False   \n",
       "3             True             False  ...      False      False      False   \n",
       "4            False             False  ...      False      False      False   \n",
       "\n",
       "   month_may  month_nov  month_oct  month_sep  poutcome_other  \\\n",
       "0      False      False      False      False           False   \n",
       "1      False      False      False      False           False   \n",
       "2      False      False      False      False           False   \n",
       "3      False      False      False      False           False   \n",
       "4      False      False      False      False           False   \n",
       "\n",
       "   poutcome_success  subscribed_yes  \n",
       "0             False           False  \n",
       "1             False           False  \n",
       "2             False           False  \n",
       "3             False           False  \n",
       "4             False           False  \n",
       "\n",
       "[5 rows x 39 columns]"
      ],
      "text/html": [
       "<div>\n",
       "<style scoped>\n",
       "    .dataframe tbody tr th:only-of-type {\n",
       "        vertical-align: middle;\n",
       "    }\n",
       "\n",
       "    .dataframe tbody tr th {\n",
       "        vertical-align: top;\n",
       "    }\n",
       "\n",
       "    .dataframe thead th {\n",
       "        text-align: right;\n",
       "    }\n",
       "</style>\n",
       "<table border=\"1\" class=\"dataframe\">\n",
       "  <thead>\n",
       "    <tr style=\"text-align: right;\">\n",
       "      <th></th>\n",
       "      <th>age</th>\n",
       "      <th>education</th>\n",
       "      <th>balance</th>\n",
       "      <th>day</th>\n",
       "      <th>duration</th>\n",
       "      <th>campaign</th>\n",
       "      <th>pdays</th>\n",
       "      <th>previous</th>\n",
       "      <th>job_blue-collar</th>\n",
       "      <th>job_entrepreneur</th>\n",
       "      <th>...</th>\n",
       "      <th>month_jul</th>\n",
       "      <th>month_jun</th>\n",
       "      <th>month_mar</th>\n",
       "      <th>month_may</th>\n",
       "      <th>month_nov</th>\n",
       "      <th>month_oct</th>\n",
       "      <th>month_sep</th>\n",
       "      <th>poutcome_other</th>\n",
       "      <th>poutcome_success</th>\n",
       "      <th>subscribed_yes</th>\n",
       "    </tr>\n",
       "  </thead>\n",
       "  <tbody>\n",
       "    <tr>\n",
       "      <th>0</th>\n",
       "      <td>32.0</td>\n",
       "      <td>2</td>\n",
       "      <td>392</td>\n",
       "      <td>1</td>\n",
       "      <td>957</td>\n",
       "      <td>2</td>\n",
       "      <td>131</td>\n",
       "      <td>2</td>\n",
       "      <td>False</td>\n",
       "      <td>False</td>\n",
       "      <td>...</td>\n",
       "      <td>False</td>\n",
       "      <td>False</td>\n",
       "      <td>False</td>\n",
       "      <td>False</td>\n",
       "      <td>False</td>\n",
       "      <td>False</td>\n",
       "      <td>False</td>\n",
       "      <td>False</td>\n",
       "      <td>False</td>\n",
       "      <td>False</td>\n",
       "    </tr>\n",
       "    <tr>\n",
       "      <th>1</th>\n",
       "      <td>39.0</td>\n",
       "      <td>1</td>\n",
       "      <td>688</td>\n",
       "      <td>1</td>\n",
       "      <td>233</td>\n",
       "      <td>2</td>\n",
       "      <td>133</td>\n",
       "      <td>1</td>\n",
       "      <td>False</td>\n",
       "      <td>False</td>\n",
       "      <td>...</td>\n",
       "      <td>False</td>\n",
       "      <td>False</td>\n",
       "      <td>False</td>\n",
       "      <td>False</td>\n",
       "      <td>False</td>\n",
       "      <td>False</td>\n",
       "      <td>False</td>\n",
       "      <td>False</td>\n",
       "      <td>False</td>\n",
       "      <td>False</td>\n",
       "    </tr>\n",
       "    <tr>\n",
       "      <th>2</th>\n",
       "      <td>59.0</td>\n",
       "      <td>1</td>\n",
       "      <td>1035</td>\n",
       "      <td>1</td>\n",
       "      <td>126</td>\n",
       "      <td>2</td>\n",
       "      <td>239</td>\n",
       "      <td>1</td>\n",
       "      <td>False</td>\n",
       "      <td>False</td>\n",
       "      <td>...</td>\n",
       "      <td>False</td>\n",
       "      <td>False</td>\n",
       "      <td>False</td>\n",
       "      <td>False</td>\n",
       "      <td>False</td>\n",
       "      <td>False</td>\n",
       "      <td>False</td>\n",
       "      <td>False</td>\n",
       "      <td>False</td>\n",
       "      <td>False</td>\n",
       "    </tr>\n",
       "    <tr>\n",
       "      <th>3</th>\n",
       "      <td>47.0</td>\n",
       "      <td>1</td>\n",
       "      <td>398</td>\n",
       "      <td>1</td>\n",
       "      <td>274</td>\n",
       "      <td>1</td>\n",
       "      <td>238</td>\n",
       "      <td>2</td>\n",
       "      <td>True</td>\n",
       "      <td>False</td>\n",
       "      <td>...</td>\n",
       "      <td>False</td>\n",
       "      <td>False</td>\n",
       "      <td>False</td>\n",
       "      <td>False</td>\n",
       "      <td>False</td>\n",
       "      <td>False</td>\n",
       "      <td>False</td>\n",
       "      <td>False</td>\n",
       "      <td>False</td>\n",
       "      <td>False</td>\n",
       "    </tr>\n",
       "    <tr>\n",
       "      <th>4</th>\n",
       "      <td>54.0</td>\n",
       "      <td>1</td>\n",
       "      <td>1004</td>\n",
       "      <td>1</td>\n",
       "      <td>479</td>\n",
       "      <td>1</td>\n",
       "      <td>307</td>\n",
       "      <td>1</td>\n",
       "      <td>False</td>\n",
       "      <td>False</td>\n",
       "      <td>...</td>\n",
       "      <td>False</td>\n",
       "      <td>False</td>\n",
       "      <td>False</td>\n",
       "      <td>False</td>\n",
       "      <td>False</td>\n",
       "      <td>False</td>\n",
       "      <td>False</td>\n",
       "      <td>False</td>\n",
       "      <td>False</td>\n",
       "      <td>False</td>\n",
       "    </tr>\n",
       "  </tbody>\n",
       "</table>\n",
       "<p>5 rows × 39 columns</p>\n",
       "</div>"
      ]
     },
     "execution_count": 70,
     "metadata": {},
     "output_type": "execute_result"
    }
   ],
   "execution_count": 70
  },
  {
   "metadata": {
    "ExecuteTime": {
     "end_time": "2025-02-28T23:19:43.994731Z",
     "start_time": "2025-02-28T23:19:43.990183Z"
    }
   },
   "cell_type": "code",
   "source": "df.isna().sum()",
   "id": "da7e8ab0872e6d30",
   "outputs": [
    {
     "data": {
      "text/plain": [
       "age                  12\n",
       "education             0\n",
       "balance               0\n",
       "day                   0\n",
       "duration              0\n",
       "campaign              0\n",
       "pdays                 0\n",
       "previous              0\n",
       "job_blue-collar       0\n",
       "job_entrepreneur      0\n",
       "job_housemaid         0\n",
       "job_management        0\n",
       "job_retired           0\n",
       "job_self-employed     0\n",
       "job_services          0\n",
       "job_student           0\n",
       "job_technician        0\n",
       "job_unemployed        0\n",
       "job_nan               0\n",
       "marital_married       0\n",
       "marital_single        0\n",
       "default_yes           0\n",
       "housing_yes           0\n",
       "loan_yes              0\n",
       "contact_telephone     0\n",
       "month_aug             0\n",
       "month_dec             0\n",
       "month_feb             0\n",
       "month_jan             0\n",
       "month_jul             0\n",
       "month_jun             0\n",
       "month_mar             0\n",
       "month_may             0\n",
       "month_nov             0\n",
       "month_oct             0\n",
       "month_sep             0\n",
       "poutcome_other        0\n",
       "poutcome_success      0\n",
       "subscribed_yes        0\n",
       "dtype: int64"
      ]
     },
     "execution_count": 71,
     "metadata": {},
     "output_type": "execute_result"
    }
   ],
   "execution_count": 71
  },
  {
   "metadata": {},
   "cell_type": "markdown",
   "source": "We can see above we have 12 missing values for age, to combat this we will fill it replace the missing values with mean ages.",
   "id": "d52ed417b096905a"
  },
  {
   "metadata": {
    "ExecuteTime": {
     "end_time": "2025-02-28T23:19:44.110547Z",
     "start_time": "2025-02-28T23:19:44.108148Z"
    }
   },
   "cell_type": "code",
   "source": "df['age'].fillna(df['age'].mean(), inplace=True)",
   "id": "77a6455ced4348f2",
   "outputs": [
    {
     "name": "stderr",
     "output_type": "stream",
     "text": [
      "C:\\Users\\brian\\AppData\\Local\\Temp\\ipykernel_23440\\4255040007.py:1: FutureWarning: A value is trying to be set on a copy of a DataFrame or Series through chained assignment using an inplace method.\n",
      "The behavior will change in pandas 3.0. This inplace method will never work because the intermediate object on which we are setting values always behaves as a copy.\n",
      "\n",
      "For example, when doing 'df[col].method(value, inplace=True)', try using 'df.method({col: value}, inplace=True)' or df[col] = df[col].method(value) instead, to perform the operation inplace on the original object.\n",
      "\n",
      "\n",
      "  df['age'].fillna(df['age'].mean(), inplace=True)\n"
     ]
    }
   ],
   "execution_count": 72
  },
  {
   "metadata": {},
   "cell_type": "markdown",
   "source": "### Rescaling\n",
   "id": "cafe856f8e16af00"
  },
  {
   "metadata": {
    "ExecuteTime": {
     "end_time": "2025-02-28T23:19:44.265677Z",
     "start_time": "2025-02-28T23:19:44.260850Z"
    }
   },
   "cell_type": "code",
   "source": [
    "robust_scaler = RobustScaler()\n",
    "\n",
    "numerical_cols = ['balance', 'duration', 'campaign', 'previous']\n",
    "\n",
    "df[numerical_cols] = robust_scaler.fit_transform(df[numerical_cols])"
   ],
   "id": "404a6b13b6c3b459",
   "outputs": [],
   "execution_count": 73
  },
  {
   "metadata": {
    "ExecuteTime": {
     "end_time": "2025-02-28T23:19:44.354491Z",
     "start_time": "2025-02-28T23:19:44.351050Z"
    }
   },
   "cell_type": "code",
   "source": "df['education'] = df['education'] / df['education'].max()  ",
   "id": "b7e57ad585923e1c",
   "outputs": [],
   "execution_count": 74
  },
  {
   "metadata": {},
   "cell_type": "markdown",
   "source": "### Treatment of Outliers",
   "id": "40ffe7c694fe204e"
  },
  {
   "metadata": {},
   "cell_type": "markdown",
   "source": "Lets look at some graphs of four columns which have big variations between each entry, this will allow us to spot outliers.",
   "id": "cbafbba02403bfe8"
  },
  {
   "metadata": {
    "ExecuteTime": {
     "end_time": "2025-02-28T23:19:44.453428Z",
     "start_time": "2025-02-28T23:19:44.396993Z"
    }
   },
   "cell_type": "code",
   "source": [
    "df.boxplot(column=['balance','duration', 'campaign', 'previous'])\n",
    "plt.show()"
   ],
   "id": "d52cec8c77377215",
   "outputs": [
    {
     "data": {
      "text/plain": [
       "<Figure size 640x480 with 1 Axes>"
      ],
      "image/png": "[encoded data removed]"
     },
     "metadata": {},
     "output_type": "display_data"
    }
   ],
   "execution_count": 75
  },
  {
   "metadata": {
    "ExecuteTime": {
     "end_time": "2025-02-28T23:19:44.769745Z",
     "start_time": "2025-02-28T23:19:44.464789Z"
    }
   },
   "cell_type": "code",
   "source": [
    "fig, axes = plt.subplots(1, 4, figsize=(16, 4)) \n",
    "\n",
    "# Plot Balance\n",
    "axes[0].set_title(\"Histogram of Balances\")\n",
    "axes[0].set_xlabel('Balance')\n",
    "axes[0].set_ylabel('Customers')\n",
    "axes[0].hist(df['balance'], bins=20)\n",
    "\n",
    "# Plot Duration\n",
    "axes[1].set_title(\"Histogram of Duration in Seconds\")\n",
    "axes[1].set_xlabel('Duration of call')\n",
    "axes[1].set_ylabel('Customers')\n",
    "axes[1].hist(df['duration'], bins=20)\n",
    "\n",
    "# Plot Campaign\n",
    "axes[2].set_title(\"Histogram of Contacts During Campaign\")\n",
    "axes[2].set_xlabel('Contacts during campaign')\n",
    "axes[2].set_ylabel('Customers')\n",
    "axes[2].hist(df['campaign'], bins=20)\n",
    "\n",
    "# Plot Previous\n",
    "axes[3].set_title(\"Histogram of Previous Contacts\")\n",
    "axes[3].set_xlabel('Previous contacts')\n",
    "axes[3].set_ylabel('Customers')\n",
    "axes[3].hist(df['previous'], bins=20)\n",
    "\n",
    "plt.tight_layout()\n",
    "plt.show()\n"
   ],
   "id": "f8441060dc7d00ec",
   "outputs": [
    {
     "data": {
      "text/plain": [
       "<Figure size 1600x400 with 4 Axes>"
      ],
      "image/png": "[encoded data removed]"
     },
     "metadata": {},
     "output_type": "display_data"
    }
   ],
   "execution_count": 76
  },
  {
   "metadata": {
    "ExecuteTime": {
     "end_time": "2025-02-28T23:19:44.785608Z",
     "start_time": "2025-02-28T23:19:44.780583Z"
    }
   },
   "cell_type": "code",
   "source": [
    "df['balance'] = np.log(df['balance'] + abs(min(df['balance'])) + 1)\n",
    "df['duration'] = np.log(df['duration'] + abs(min(df['duration'])) + 1)\n",
    "df['campaign'] = np.log(df['campaign'] + abs(min(df['campaign'])) + 1)\n",
    "df['previous'] = np.log(df['previous'] + abs(min(df['previous'])) + 1)"
   ],
   "id": "465ddc2444721b07",
   "outputs": [],
   "execution_count": 77
  },
  {
   "metadata": {
    "ExecuteTime": {
     "end_time": "2025-02-28T23:19:45.018682Z",
     "start_time": "2025-02-28T23:19:44.796155Z"
    }
   },
   "cell_type": "code",
   "source": [
    "fig, axes = plt.subplots(1, 4, figsize=(16, 4)) \n",
    "\n",
    "# Plot Balance\n",
    "axes[0].set_title(\"Histogram of Balances\")\n",
    "axes[0].set_xlabel('Balance')\n",
    "axes[0].set_ylabel('Customers')\n",
    "axes[0].hist(df['balance'], bins=20)\n",
    "\n",
    "# Plot Duration\n",
    "axes[1].set_title(\"Histogram of Duration in Seconds\")\n",
    "axes[1].set_xlabel('Duration of call')\n",
    "axes[1].set_ylabel('Customers')\n",
    "axes[1].hist(df['duration'], bins=20)\n",
    "\n",
    "# Plot Campaign\n",
    "axes[2].set_title(\"Histogram of Contacts During Campaign\")\n",
    "axes[2].set_xlabel('Contacts during campaign')\n",
    "axes[2].set_ylabel('Customers')\n",
    "axes[2].hist(df['campaign'], bins=20)\n",
    "\n",
    "# Plot Previous\n",
    "axes[3].set_title(\"Histogram of Previous Contacts\")\n",
    "axes[3].set_xlabel('Previous contacts')\n",
    "axes[3].set_ylabel('Customers')\n",
    "axes[3].hist(df['previous'], bins=20)\n",
    "\n",
    "plt.tight_layout()\n",
    "plt.show()"
   ],
   "id": "920f4e069aec93c2",
   "outputs": [
    {
     "data": {
      "text/plain": [
       "<Figure size 1600x400 with 4 Axes>"
      ],
      "image/png": "[encoded data removed]"
     },
     "metadata": {},
     "output_type": "display_data"
    }
   ],
   "execution_count": 78
  },
  {
   "metadata": {},
   "cell_type": "markdown",
   "source": [
    "### New Feature\n",
    "\n",
    "We will combine contacts during campaign with contacts during previous campaigns into total contacts for a new feature."
   ],
   "id": "266ed569cc212d34"
  },
  {
   "metadata": {
    "ExecuteTime": {
     "end_time": "2025-02-28T23:19:45.043421Z",
     "start_time": "2025-02-28T23:19:45.038508Z"
    }
   },
   "cell_type": "code",
   "source": [
    "df['total_contacts'] = df['campaign'] + df['previous']\n",
    "df[['total_contacts']] = robust_scaler.fit_transform(df[['total_contacts']])\n",
    "df['total_contacts'] = np.log(df['total_contacts'] + abs(min(df['total_contacts'])) + 1)"
   ],
   "id": "3c6bf4bb57accae8",
   "outputs": [],
   "execution_count": 79
  },
  {
   "metadata": {},
   "cell_type": "markdown",
   "source": "We will drop previous only as we can derive it from campaign and total_contacts, and we chose to keep campaign due to its relevancy with the current campaign leading to a higher importance.",
   "id": "8868533b3417699b"
  },
  {
   "metadata": {
    "ExecuteTime": {
     "end_time": "2025-02-28T23:19:45.048395Z",
     "start_time": "2025-02-28T23:19:45.045426Z"
    }
   },
   "cell_type": "code",
   "source": [
    "\n",
    "df.drop(['previous'], axis=1, inplace=True)"
   ],
   "id": "b46f15dafcc03a71",
   "outputs": [],
   "execution_count": 80
  },
  {
   "metadata": {
    "ExecuteTime": {
     "end_time": "2025-02-28T23:19:45.114949Z",
     "start_time": "2025-02-28T23:19:45.057507Z"
    }
   },
   "cell_type": "code",
   "source": [
    "df['total_contacts'].hist(bins=20)\n",
    "plt.show()"
   ],
   "id": "4df47dbac5f5b309",
   "outputs": [
    {
     "data": {
      "text/plain": [
       "<Figure size 640x480 with 1 Axes>"
      ],
      "image/png": "[encoded data removed]"
     },
     "metadata": {},
     "output_type": "display_data"
    }
   ],
   "execution_count": 81
  },
  {
   "metadata": {},
   "cell_type": "markdown",
   "source": "### Save Prepared Dataset",
   "id": "3de2dfcca03b4e0e"
  },
  {
   "metadata": {
    "ExecuteTime": {
     "end_time": "2025-02-28T23:19:45.145034Z",
     "start_time": "2025-02-28T23:19:45.125371Z"
    }
   },
   "cell_type": "code",
   "source": "df.to_csv('bank_prepared.csv')",
   "id": "553dace04fc85b52",
   "outputs": [],
   "execution_count": 82
  }
 ],
 "metadata": {
  "kernelspec": {
   "display_name": "Python 3",
   "language": "python",
   "name": "python3"
  },
  "language_info": {
   "codemirror_mode": {
    "name": "ipython",
    "version": 2
   },
   "file_extension": ".py",
   "mimetype": "text/x-python",
   "name": "python",
   "nbconvert_exporter": "python",
   "pygments_lexer": "ipython2",
   "version": "2.7.6"
  }
 },
 "nbformat": 4,
 "nbformat_minor": 5
}
